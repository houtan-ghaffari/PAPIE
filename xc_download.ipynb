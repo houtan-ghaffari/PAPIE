{
 "cells": [
  {
   "cell_type": "code",
   "execution_count": null,
   "id": "3d4da02a-84b5-4123-82ae-a3fff0badf84",
   "metadata": {},
   "outputs": [],
   "source": [
    "import pandas as pd\n",
    "import requests\n",
    "from tqdm.notebook import tqdm\n",
    "import os\n",
    "import time\n",
    "pd.set_option(\"display.max_columns\", None)"
   ]
  },
  {
   "cell_type": "code",
   "execution_count": null,
   "id": "55207634-30f9-49a6-bf17-84d0fff9de2d",
   "metadata": {},
   "outputs": [],
   "source": [
    "df =  pd.read_csv('xc_metadata_curated.csv')\n",
    "df['path'] = df.apply(lambda row: os.path.join(os.path.abspath('data'), row.gensp, str(row.id) + '.' + row.filename.split('.')[-1].lower()), axis=1).values"
   ]
  },
  {
   "cell_type": "code",
   "execution_count": null,
   "id": "8be4b2ab-b70c-4445-9a72-72d57ae193b8",
   "metadata": {},
   "outputs": [],
   "source": [
    "for row in tqdm(df.itertuples()):\n",
    "    specie_dir = os.path.join('data', row.gensp)\n",
    "    os.makedirs(specie_dir, exist_ok=True)\n",
    "    time.sleep(1.) # no matter what, don't mess with this sleeping time, your ip address might get blocked if you download fast and a lot from Xeno-Canto o_O !!\n",
    "    file_format = row.filename.rsplit('.', 1)[1].lower()  # e.g, [filename, Mp3][1].lower() -> mp3\n",
    "    file_name = str(row.id) + '.' + file_format  # e.g., 638123.mp3\n",
    "    path_to_save = os.path.join(specie_dir, file_name)\n",
    "    if not os.path.isfile(path_to_save):  # do not re-download if the file exists\n",
    "        try:\n",
    "            response = requests.get(row.file, timeout=30, allow_redirects=True)\n",
    "            if response.status_code == 200 and response.content:\n",
    "                with open(path_to_save, 'wb') as f:\n",
    "                    f.write(response.content)\n",
    "            else:\n",
    "                print(f'failed {row.id} with link {row.file}')\n",
    "        except Exception as e:\n",
    "            print(f'failed to download {row.file}!')"
   ]
  },
  {
   "cell_type": "code",
   "execution_count": null,
   "id": "03384483-f547-4607-9ddb-e15b2f4c7595",
   "metadata": {},
   "outputs": [],
   "source": [
    "for i, f in tqdm(enumerate(df['path'].values)):\n",
    "    if not os.path.isfile(f):\n",
    "        print(f'failed to download record at index {i}: {f}')\n",
    "    break"
   ]
  }
 ],
 "metadata": {
  "kernelspec": {
   "display_name": "Python 3 (ipykernel)",
   "language": "python",
   "name": "python3"
  },
  "language_info": {
   "codemirror_mode": {
    "name": "ipython",
    "version": 3
   },
   "file_extension": ".py",
   "mimetype": "text/x-python",
   "name": "python",
   "nbconvert_exporter": "python",
   "pygments_lexer": "ipython3",
   "version": "3.11.9"
  },
  "widgets": {
   "application/vnd.jupyter.widget-state+json": {
    "state": {
     "0af268549a124a779c60f67b80abc1ec": {
      "model_module": "@jupyter-widgets/controls",
      "model_module_version": "2.0.0",
      "model_name": "ProgressStyleModel",
      "state": {
       "description_width": ""
      }
     },
     "11b3113485b942e880501104cb462a92": {
      "model_module": "@jupyter-widgets/base",
      "model_module_version": "2.0.0",
      "model_name": "LayoutModel",
      "state": {}
     },
     "237cf91b94204e37a27899c5f530fbda": {
      "model_module": "@jupyter-widgets/controls",
      "model_module_version": "2.0.0",
      "model_name": "HBoxModel",
      "state": {
       "children": [
        "IPY_MODEL_755935e9348d4f609f18cd09a8582833",
        "IPY_MODEL_6d448e08c0fb468b8f4b3a081c803473",
        "IPY_MODEL_6836d3144d5e405a9024697c18cf6d9f"
       ],
       "layout": "IPY_MODEL_11b3113485b942e880501104cb462a92"
      }
     },
     "2a0f8aa881d6462ca83210ff6cf58933": {
      "model_module": "@jupyter-widgets/base",
      "model_module_version": "2.0.0",
      "model_name": "LayoutModel",
      "state": {}
     },
     "63644c95e5324abdb25e9e3bc0281b95": {
      "model_module": "@jupyter-widgets/controls",
      "model_module_version": "2.0.0",
      "model_name": "HTMLStyleModel",
      "state": {
       "description_width": "",
       "font_size": null,
       "text_color": null
      }
     },
     "63cff30ce10843759c52690cd90ff064": {
      "model_module": "@jupyter-widgets/controls",
      "model_module_version": "2.0.0",
      "model_name": "HTMLStyleModel",
      "state": {
       "description_width": "",
       "font_size": null,
       "text_color": null
      }
     },
     "6836d3144d5e405a9024697c18cf6d9f": {
      "model_module": "@jupyter-widgets/controls",
      "model_module_version": "2.0.0",
      "model_name": "HTMLModel",
      "state": {
       "layout": "IPY_MODEL_2a0f8aa881d6462ca83210ff6cf58933",
       "style": "IPY_MODEL_63644c95e5324abdb25e9e3bc0281b95",
       "value": " 0/? [00:00&lt;?, ?it/s]"
      }
     },
     "6d448e08c0fb468b8f4b3a081c803473": {
      "model_module": "@jupyter-widgets/controls",
      "model_module_version": "2.0.0",
      "model_name": "FloatProgressModel",
      "state": {
       "bar_style": "danger",
       "layout": "IPY_MODEL_e869ad29194f4d2fba28c16388e26d9c",
       "max": 1,
       "style": "IPY_MODEL_0af268549a124a779c60f67b80abc1ec"
      }
     },
     "755935e9348d4f609f18cd09a8582833": {
      "model_module": "@jupyter-widgets/controls",
      "model_module_version": "2.0.0",
      "model_name": "HTMLModel",
      "state": {
       "layout": "IPY_MODEL_d8342c27bfd94bf3b21f063288c17afa",
       "style": "IPY_MODEL_63cff30ce10843759c52690cd90ff064"
      }
     },
     "d8342c27bfd94bf3b21f063288c17afa": {
      "model_module": "@jupyter-widgets/base",
      "model_module_version": "2.0.0",
      "model_name": "LayoutModel",
      "state": {}
     },
     "e869ad29194f4d2fba28c16388e26d9c": {
      "model_module": "@jupyter-widgets/base",
      "model_module_version": "2.0.0",
      "model_name": "LayoutModel",
      "state": {
       "width": "20px"
      }
     }
    },
    "version_major": 2,
    "version_minor": 0
   }
  }
 },
 "nbformat": 4,
 "nbformat_minor": 5
}
